{
  "metadata": {
    "kernelspec": {
      "name": "",
      "display_name": ""
    },
    "language_info": {
      "name": ""
    }
  },
  "nbformat_minor": 5,
  "nbformat": 4,
  "cells": [
    {
      "id": "e363575b-1de9-4552-8974-007810c33ed7",
      "cell_type": "code",
      "source": "# Exercise 2 - Title of the Notebook\nData Science Tools and Ecosystem",
      "metadata": {
        "trusted": true
      },
      "outputs": [],
      "execution_count": null
    },
    {
      "id": "b073278d-9ecc-4670-be0c-9a677a7e1b32",
      "cell_type": "code",
      "source": "# Exercise 3 - Introduction  \nThis notebook provides an overview of Data Science languages,\nlibraries, and tools.",
      "metadata": {
        "trusted": true
      },
      "outputs": [],
      "execution_count": null
    },
    {
      "id": "d517a6bd-afc2-4271-a760-b88188f43ae3",
      "cell_type": "code",
      "source": "# Exercise 4 - Data Science Languages  \n- Python  \n- R  \n- SQL  \n- Julia  \n- Scala  ",
      "metadata": {
        "trusted": true
      },
      "outputs": [],
      "execution_count": null
    },
    {
      "id": "ae9e9a98-b7b3-4e45-90f4-6aa4983439db",
      "cell_type": "code",
      "source": "# Exercise 5 - Data Science Libraries  \n- NumPy  \n- Pandas  \n- Matplotlib  \n- Scikit-learn  \n- TensorFlow  \n- PyTorch  ",
      "metadata": {
        "trusted": true
      },
      "outputs": [],
      "execution_count": null
    },
    {
      "id": "395c604f-121e-4a50-82db-16ad108647aa",
      "cell_type": "code",
      "source": "# Exercise 6 - Data Science Tools  \n| Tool Name       | Purpose              \n|---------------|----------------------|  \n| Jupyter Notebook | Code & Documentation |  \n| RStudio        | Statistical Computing |  \n| Apache Spark   | Big Data Processing   |  \n| TensorFlow     | Machine Learning      |  \n| Tableau        | Data Visualization    |  ",
      "metadata": {
        "trusted": true
      },
      "outputs": [],
      "execution_count": null
    },
    {
      "id": "f6029f2b-3cdc-47c0-81ab-589227fe0e3e",
      "cell_type": "code",
      "source": "# Exercise 7 - Arithmetic Expressions  \nBelow are some examples of arithmetic operations in Python.",
      "metadata": {
        "trusted": true
      },
      "outputs": [],
      "execution_count": null
    },
    {
      "id": "fdf95704-9788-4826-a7ac-bc095928899d",
      "cell_type": "code",
      "source": "# Exercise 8 - Multiply and add numbers\nresult = (5 * 7) + 3\nresult",
      "metadata": {
        "trusted": true
      },
      "outputs": [],
      "execution_count": null
    },
    {
      "id": "e9414c8e-6dbb-41c3-a83c-f0a2e247b2b1",
      "cell_type": "code",
      "source": "# Exercise 9 - Convert 200 minutes to hours\nminutes = 200\nhours = minutes / 60\nhours",
      "metadata": {
        "trusted": true
      },
      "outputs": [],
      "execution_count": null
    },
    {
      "id": "fec7ed02-05d1-4b90-8d9a-fe692691982e",
      "cell_type": "code",
      "source": "# Exercise 10 - Objectives  \n- List programming languages used in Data Science  \n- Identify common Data Science libraries  \n- Describe essential Data Science tools  \n- Perform basic arithmetic operations  \n- Convert time from minutes to hours  ",
      "metadata": {
        "trusted": true
      },
      "outputs": [],
      "execution_count": null
    },
    {
      "id": "8dbb7930-5077-4239-ba61-9b22455ffafc",
      "cell_type": "code",
      "source": "# Exercise 11 - Author's Name  \nNurfatihah Hamzah",
      "metadata": {
        "trusted": true
      },
      "outputs": [],
      "execution_count": null
    }
  ]
}