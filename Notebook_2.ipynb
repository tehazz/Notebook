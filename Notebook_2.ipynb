{
  "metadata": {
    "kernelspec": {
      "name": "python",
      "display_name": "Python (Pyodide)",
      "language": "python"
    },
    "language_info": {
      "codemirror_mode": {
        "name": "python",
        "version": 3
      },
      "file_extension": ".py",
      "mimetype": "text/x-python",
      "name": "python",
      "nbconvert_exporter": "python",
      "pygments_lexer": "ipython3",
      "version": "3.8"
    }
  },
  "nbformat_minor": 5,
  "nbformat": 4,
  "cells": [
    {
      "id": "95c2fa6d-d721-4a55-b534-f4ba01d30a45",
      "cell_type": "markdown",
      "source": "# Data Science Tools and Ecosystem",
      "metadata": {
        "jp-MarkdownHeadingCollapsed": true
      }
    },
    {
      "id": "bde1eb40-6dd8-4a51-b024-954f35a65571",
      "cell_type": "markdown",
      "source": "# Exercise 3 - Introduction  \nThis notebook provides an overview of Data Science languages,\nlibraries, and tools.",
      "metadata": {}
    },
    {
      "id": "dbe9042c-3d44-4d2a-b03f-226776e36c55",
      "cell_type": "markdown",
      "source": "# Exercise 4 - Data Science Languages\n\nSome of the popular languages that Data Scientists use are:\n\n1. Python\n2. R\n3. SQL\n4. Java\n5. C++",
      "metadata": {}
    },
    {
      "id": "cb73c6a0-3b72-4e20-9c16-bd4573bc86f9",
      "cell_type": "markdown",
      "source": "# Exercise 5 - Data Science Libraries\n\nSome of the commonly used libraries used by Data Scientists include:\n\n1. Pandas\n2. NumPy\n3. Matplotlib\n4. Scikit-learn\n5. TensorFlow",
      "metadata": {}
    },
    {
      "id": "20493d97-cd05-4cac-b6ea-952a769674fe",
      "cell_type": "markdown",
      "source": "## Data Science Tools\n\n| Data Science Tool | Description                             |\n| ----------------- | -----------                             |\n| Jupyter Notebook  | Interactive computing environment       |\n| RStudio           | IDE for R programming                   |\n| Apache Spark      | Big data processing framework           |\n| TensorFlow        | Machine learning library                |\n| Tableau           | Data visualization tool                 |",
      "metadata": {}
    },
    {
      "id": "d9a14237-76fd-40ec-9271-5eb4e84259dd",
      "cell_type": "markdown",
      "source": "# Exercise 7 - Arithmetic Expressions  \n### Below are some examples of arithmetic operations in Python.",
      "metadata": {}
    },
    {
      "id": "fdf95704-9788-4826-a7ac-bc095928899d",
      "cell_type": "code",
      "source": "# Exercise 8 - Multiply and add numbers\nresult = (5 * 7) + 3\nresult",
      "metadata": {
        "trusted": true
      },
      "outputs": [
        {
          "execution_count": 12,
          "output_type": "execute_result",
          "data": {
            "text/plain": "38"
          },
          "metadata": {}
        }
      ],
      "execution_count": 12
    },
    {
      "id": "e9414c8e-6dbb-41c3-a83c-f0a2e247b2b1",
      "cell_type": "code",
      "source": "# Exercise 9 - Convert 200 minutes to hours\nminutes = 200\nhours = minutes / 60\nhours",
      "metadata": {
        "trusted": true
      },
      "outputs": [
        {
          "execution_count": 13,
          "output_type": "execute_result",
          "data": {
            "text/plain": "3.3333333333333335"
          },
          "metadata": {}
        }
      ],
      "execution_count": 13
    },
    {
      "id": "7f057c90-a59c-43d4-811b-5966ea7f4a4e",
      "cell_type": "markdown",
      "source": "# Exercise 10 - **Objectives**\n\nThe key objectives of this notebook are:\n\n* List popular languages used in Data Science\n* Introduce common libraries for Data Science\n* Present key open-source Data Science tools\n* Provide examples of arithmetic expressions in Python\n* Convert minutes to hours using a Python function",
      "metadata": {}
    },
    {
      "id": "cc502b93-4a7a-4bfd-8177-5a50f3ea0bec",
      "cell_type": "markdown",
      "source": "# Exercise 11 - Author's Name\n\n## Nurfatihah Hamzah",
      "metadata": {}
    }
  ]
}